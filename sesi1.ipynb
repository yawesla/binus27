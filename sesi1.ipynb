var = input("nput: ")
print(var)

#.

for i in range(1,5):
    print(f"i = {i}")

#.#.#.#.#.#.#.#.#.#.#.#.#.#.#.#.#.#.#.#.#.#.#.#.#.#.


myList = [2,3,True,"Irfan"]
myList.append(10)
# myList.remove(3)
# myList.pop()

# print(myList)

for i in range(len(myList)):
    print(f"i = {i}, my List = {myList}")
    print(f"ur List : {myList[i]}")

for elemet in myList:
    print(elemet)


#.#.#.#.#.#.#.#.#.#.#.#.#.#.#.#.#.#.#.#.#.#.#.#.#.#.

# Tuple , mirip list bisa index tidak bisa dimodifikasi
myTuple = (10,20)

# myTuple[0] = 1
print(myTuple[0])

#.#.#.#.#.#.#.#.#.#.#.#.#.#.#.#.#.#.#.#.#.#.#.#.#.#.

# Set , tidak ada duplicate dan index
mySet = {1,2,3,4,3,4,3}

mySet.add(5)
mySet.remove(2)
print(mySet)

# searching
if 1 in mySet:
    print("true")


#.#.#.#.#.#.#.#.#.#.#.#.#.#.#.#.#.#.#.#.#.#.#.#.#.#.

# Dictionary
myDict = {
    'name' : "irfan",
    "age"   : 20,
}

myDict["age"] = 21
myDict["gpa"] = 3.5
print(myDict)


#.#.#.#.#.#.#.#.#.#.#.#.#.#.#.#.#.#.#.#.#.#.#.#.#.#.

def myFunc(x):
    # print(x+3)
    return x+3

# myFunc(5)
# n = myFunc(3)
# print(n)


def myFunc2(x):
    if x == 0:
        return "test"
    elif x == 1:
        return True
    else:
        return(10,20)
    
var = myFunc2(3)
# print(var)


# detrucct
myList2 = []
for e in var:
    myList2.append(e)
print(myList2)

#.#.#.#.#.#.#.#.#.#.#.#.#.#.#.#.#.#.#.#.#.#.#.#.#.#.

# Numpy
import numpy as np

print(np.power(2,3))
print(np.sqrt(25))
print(np.abs(-10))

n = -20
print(np.sign(n))  #return sign adalah 1 tergantung bil. positif atau negatif

#.#.#.#.#.#.#.#.#.#.#.#.#.#.#.#.#.#.#.#.#.#.#.#.#.#.

# Numpy Arr

arr = np.array([1,2])
matrix = np.array([[1,-2],[3,4]])

# print(arr)
print(matrix)

# print(np.dot(matrix,arr)) # dot product

# print(np.shape(matrix))

matrixZeros = np.zeros(np.shape(matrix))
# print(matrixZeros)
matrixOnes = np.ones(np.shape(matrix))
# print(matrixOnes)

# print(np.diag(matrix))
# print(np.ndim(matrix))
# print(np.abs(matrix))

# Vstack
print(np.vstack((matrix,matrixZeros)))
print(np.hstack((matrix,matrixZeros)))


#.#.#.#.#.#.#.#.#.#.#.#.#.#.#.#.#.#.#.#.#.#.#.#.#.#.

mat2 = np.array([[1,2],[3,4],[5,6]])
print(mat2)
print(mat2.reshape(2,3))


# Linspace
arr3 = np.linspace(1.0,5.0,5)
print(arr3)

# arrage
arr4 = np.arange(0,5)
print(arr4)

#.#.#.#.#.#.#.#.#.#.#.#.#.#.#.#.#.#.#.#.#.#.#.#.#.#.


