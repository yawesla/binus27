{
 "cells": [
  {
   "cell_type": "code",
   "execution_count": 1,
   "metadata": {},
   "outputs": [],
   "source": [
    "import numpy as np"
   ]
  },
  {
   "cell_type": "code",
   "execution_count": 2,
   "metadata": {},
   "outputs": [
    {
     "name": "stdout",
     "output_type": "stream",
     "text": [
      "[2.   2.75 3.5  4.25 5.  ]\n"
     ]
    }
   ],
   "source": [
    "# Varibel yg dibutuhkan \n",
    "\n",
    "# fx = x^2 - 5\n",
    "# Integral fx, 2 < x < 5\n",
    "\n",
    "a = 2 # Batas Minimum integral\n",
    "b = 5 # Batas Maks Integral\n",
    "n = 5 # Jumlah titik\n",
    "w = (b-a) / (n-1) #Lebar Kotak\n",
    "x = np.linspace(a,b,n) #Titik Koordinat untuk tiap lebar 1 kotak, merupakan Numpy array bukan std.array\n",
    "# y = f(x) , Fungsi yg akan digunakan\n",
    "print(x)"
   ]
  },
  {
   "cell_type": "code",
   "execution_count": 3,
   "metadata": {},
   "outputs": [
    {
     "name": "stdout",
     "output_type": "stream",
     "text": [
      "Height y =  [-1.      2.5625  7.25   13.0625 20.    ]\n"
     ]
    }
   ],
   "source": [
    "# Our Function\n",
    "\n",
    "def f(x):\n",
    "    return x**2-5\n",
    "\n",
    "print(\"Height y = \",f(x))"
   ]
  },
  {
   "cell_type": "code",
   "execution_count": 4,
   "metadata": {},
   "outputs": [
    {
     "name": "stdout",
     "output_type": "stream",
     "text": [
      "16.40625\n"
     ]
    }
   ],
   "source": [
    "# LEFT RIEMANN \n",
    "\n",
    "LeftR = w * sum(f(x)[:n-1]) # [:n-1] slicing\n",
    "print(LeftR)"
   ]
  },
  {
   "cell_type": "code",
   "execution_count": 5,
   "metadata": {},
   "outputs": [
    {
     "name": "stdout",
     "output_type": "stream",
     "text": [
      "32.15625\n"
     ]
    }
   ],
   "source": [
    "# RIGHT RIEMANN \n",
    "\n",
    "RightR = w * sum(f(x)[1:]) \n",
    "print(RightR)"
   ]
  },
  {
   "cell_type": "code",
   "execution_count": 6,
   "metadata": {},
   "outputs": [
    {
     "name": "stdout",
     "output_type": "stream",
     "text": [
      "23.859375\n"
     ]
    }
   ],
   "source": [
    "# MID RIEMANN \n",
    "# Cari titik midpoint untuk setiap titik\n",
    "\n",
    "xmid = (x[1:] + x[:n-1]) /2 # TItik Kiri - kanan bagi 2\n",
    "midR = w*sum(f(xmid))\n",
    "print(midR)"
   ]
  },
  {
   "cell_type": "code",
   "execution_count": 8,
   "metadata": {},
   "outputs": [
    {
     "name": "stdout",
     "output_type": "stream",
     "text": [
      "24.28125\n"
     ]
    }
   ],
   "source": [
    "################ TRAPEZOID\n",
    "\n",
    "trapezoid = (w/2) * (f(x)[0] + f(x)[n-1] + 2 * sum(f(x)[1:n-1]))\n",
    "print(trapezoid)"
   ]
  }
 ],
 "metadata": {
  "kernelspec": {
   "display_name": "Python 3",
   "language": "python",
   "name": "python3"
  },
  "language_info": {
   "codemirror_mode": {
    "name": "ipython",
    "version": 3
   },
   "file_extension": ".py",
   "mimetype": "text/x-python",
   "name": "python",
   "nbconvert_exporter": "python",
   "pygments_lexer": "ipython3",
   "version": "3.12.2"
  }
 },
 "nbformat": 4,
 "nbformat_minor": 2
}
