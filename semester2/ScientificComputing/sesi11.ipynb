{
 "cells": [
  {
   "cell_type": "code",
   "execution_count": 1,
   "metadata": {},
   "outputs": [
    {
     "name": "stdout",
     "output_type": "stream",
     "text": [
      "j\n",
      "i = 1\n",
      "i = 2\n",
      "i = 3\n",
      "i = 4\n"
     ]
    }
   ],
   "source": [
    "var = input(\"input: \")\n",
    "print(var)\n",
    "\n",
    "#.\n",
    "\n",
    "for i in range(1,5):\n",
    "    print(f\"i = {i}\")"
   ]
  },
  {
   "cell_type": "code",
   "execution_count": 2,
   "metadata": {},
   "outputs": [
    {
     "name": "stdout",
     "output_type": "stream",
     "text": [
      "i = 0, my List = [2, 3, True, 'Irfan', 10]\n",
      "ur List : 2\n",
      "i = 1, my List = [2, 3, True, 'Irfan', 10]\n",
      "ur List : 3\n",
      "i = 2, my List = [2, 3, True, 'Irfan', 10]\n",
      "ur List : True\n",
      "i = 3, my List = [2, 3, True, 'Irfan', 10]\n",
      "ur List : Irfan\n",
      "i = 4, my List = [2, 3, True, 'Irfan', 10]\n",
      "ur List : 10\n",
      "2\n",
      "3\n",
      "True\n",
      "Irfan\n",
      "10\n"
     ]
    }
   ],
   "source": [
    "myList = [2,3,True,\"Irfan\"]\n",
    "myList.append(10)\n",
    "# myList.remove(3)\n",
    "# myList.pop()\n",
    "\n",
    "# print(myList)\n",
    "\n",
    "for i in range(len(myList)):\n",
    "    print(f\"i = {i}, my List = {myList}\")\n",
    "    print(f\"ur List : {myList[i]}\")\n",
    "\n",
    "for elemet in myList:\n",
    "    print(elemet)\n"
   ]
  }
 ],
 "metadata": {
  "kernelspec": {
   "display_name": "Python 3",
   "language": "python",
   "name": "python3"
  },
  "language_info": {
   "codemirror_mode": {
    "name": "ipython",
    "version": 3
   },
   "file_extension": ".py",
   "mimetype": "text/x-python",
   "name": "python",
   "nbconvert_exporter": "python",
   "pygments_lexer": "ipython3",
   "version": "3.12.2"
  }
 },
 "nbformat": 4,
 "nbformat_minor": 2
}
