{
 "cells": [
  {
   "cell_type": "code",
   "execution_count": null,
   "metadata": {},
   "outputs": [],
   "source": [
    "# Gauss-Seidel\n",
    "\n",
    "# 6x + 3y + 2z = 15\n",
    "# 2x + 7y + 3z = 6\n",
    "# 7x + 5y + 15z = 12\n",
    "# t = iteration\n",
    "# eucledian = error\n",
    "# n_new = value\n"
   ]
  },
  {
   "cell_type": "code",
   "execution_count": 24,
   "metadata": {},
   "outputs": [],
   "source": [
    "import numpy as np\n",
    "\n",
    "# Diag Dominant, Covergent\n",
    "xs =[\n",
    "    [6,3,2],\n",
    "    [2,7,3],\n",
    "    [7,5,15]\n",
    "]\n",
    "\n",
    "ys = [\n",
    "    15,\n",
    "    6,\n",
    "    12\n",
    "]\n",
    "\n",
    "# Not Diag Dominant, Not Convergent\n",
    "# xs =[\n",
    "#     [9,1,-7],\n",
    "#     [-2,1,5],\n",
    "#     [3,5,1]\n",
    "# ]\n",
    "\n",
    "# ys = [\n",
    "#     14,\n",
    "#     5,\n",
    "#     -8\n",
    "# ]\n",
    "\n",
    "# Not Diag Dominant, Convergent\n",
    "# xs =[\n",
    "#     [9,10,-7],\n",
    "#     [-2,8,5],\n",
    "#     [3,5,10]\n",
    "# ]\n",
    "\n",
    "# ys = [\n",
    "#     14,\n",
    "#     5,\n",
    "#     -8\n",
    "# ]\n"
   ]
  },
  {
   "cell_type": "code",
   "execution_count": 25,
   "metadata": {},
   "outputs": [
    {
     "data": {
      "text/plain": [
       "True"
      ]
     },
     "execution_count": 25,
     "metadata": {},
     "output_type": "execute_result"
    }
   ],
   "source": [
    "def diagonally_dominant(x):\n",
    "    x = np.array(x) # Buat jadi numpy array\n",
    "    diag = np.array(np.diag(np.abs(x))) #Ambil diagonal dari matrix dan diabsolutin\n",
    "    sum = np.sum(np.array(np.abs(x)),axis = 1) # Axis = 1 biar ada jumlahnya per row\n",
    "    sum_without_diag = sum - diag # Cari Jumlah yg tidak termasuk diagonal\n",
    "\n",
    "    if(np.all(diag > sum_without_diag)):\n",
    "        return True\n",
    "    else:\n",
    "        return False\n",
    "    \n",
    "diagonally_dominant(xs)"
   ]
  },
  {
   "cell_type": "code",
   "execution_count": 26,
   "metadata": {},
   "outputs": [
    {
     "name": "stdout",
     "output_type": "stream",
     "text": [
      "Diagonally Dominant\n",
      "iteration:  1 [ 2.5         0.14285714 -0.41428571]\n",
      "iteration:  2 [ 2.56666667  0.30136054 -0.49823129]\n",
      "iteration:  3 [ 2.51539683  0.35198575 -0.49118043]\n",
      "iteration:  4 [ 2.48773394  0.35686763 -0.47989838]\n",
      "iteration:  5 [ 2.48153231  0.35380436 -0.4759832 ]\n",
      "Convergent\n"
     ]
    }
   ],
   "source": [
    "def gauss_seidel(x,y,error = 0.015, max = 20):\n",
    "    x = np.array(x)\n",
    "    y = np.array(y)\n",
    "\n",
    "    n_old = np.zeros(len(x[0])) #inisialisasi semua result dengan 0\n",
    "\n",
    "    diag = np.diag(x) # Ambil diagonal persamaan\n",
    "    x = -x # Buat pindahin ruas\n",
    "    np.fill_diagonal (x,0) # Diagonal di nolin\n",
    "\n",
    "    for t in range(max):\n",
    "        n_new = np.array(n_old) #buat array baru untuk menampung hasil\n",
    "        \n",
    "        for i in range (len(x)):\n",
    "            n_new[i] = (y[i] + np.dot(x[i], n_new)) / diag[i] #Update nilai Result\n",
    "\n",
    "        print(\"iteration: \", t+1, n_new)\n",
    "\n",
    "        eucledian = np.sqrt(np.dot(n_new - n_old, n_new - n_old))\n",
    "        if (eucledian <error):\n",
    "            return True\n",
    "        \n",
    "        n_old = n_new\n",
    "\n",
    "    return False\n",
    "\n",
    "if(diagonally_dominant(xs)):\n",
    "    print(\"Diagonally Dominant\")\n",
    "else:\n",
    "    print(\"Not Diagonally Dominant\")\n",
    "\n",
    "    \n",
    "if(gauss_seidel(xs,ys)):\n",
    "    print(\"Convergent\")\n",
    "else:\n",
    "    print(\"Not Convergent\")\n",
    "\n"
   ]
  }
 ],
 "metadata": {
  "kernelspec": {
   "display_name": "Python 3",
   "language": "python",
   "name": "python3"
  },
  "language_info": {
   "codemirror_mode": {
    "name": "ipython",
    "version": 3
   },
   "file_extension": ".py",
   "mimetype": "text/x-python",
   "name": "python",
   "nbconvert_exporter": "python",
   "pygments_lexer": "ipython3",
   "version": "3.12.2"
  }
 },
 "nbformat": 4,
 "nbformat_minor": 2
}
