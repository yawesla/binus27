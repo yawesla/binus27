{
 "cells": [
  {
   "cell_type": "code",
   "execution_count": 1,
   "metadata": {},
   "outputs": [
    {
     "name": "stdout",
     "output_type": "stream",
     "text": [
      "2\n",
      "i = 1\n",
      "i = 2\n",
      "i = 3\n",
      "i = 4\n"
     ]
    }
   ],
   "source": [
    "var = input(\"input: \")\n",
    "print(var)\n",
    "\n",
    "#.\n",
    "\n",
    "for i in range(1,5):\n",
    "    print(f\"i = {i}\")"
   ]
  },
  {
   "cell_type": "code",
   "execution_count": 2,
   "metadata": {},
   "outputs": [
    {
     "name": "stdout",
     "output_type": "stream",
     "text": [
      "i = 0, my List = [2, 3, True, 'Irfan', 10]\n",
      "ur List : 2\n",
      "i = 1, my List = [2, 3, True, 'Irfan', 10]\n",
      "ur List : 3\n",
      "i = 2, my List = [2, 3, True, 'Irfan', 10]\n",
      "ur List : True\n",
      "i = 3, my List = [2, 3, True, 'Irfan', 10]\n",
      "ur List : Irfan\n",
      "i = 4, my List = [2, 3, True, 'Irfan', 10]\n",
      "ur List : 10\n",
      "2\n",
      "3\n",
      "True\n",
      "Irfan\n",
      "10\n"
     ]
    }
   ],
   "source": [
    "myList = [2,3,True,\"Irfan\"]\n",
    "myList.append(10)\n",
    "# myList.remove(3)\n",
    "# myList.pop()\n",
    "\n",
    "# print(myList)\n",
    "\n",
    "for i in range(len(myList)):\n",
    "    print(f\"i = {i}, my List = {myList}\")\n",
    "    print(f\"ur List : {myList[i]}\")\n",
    "\n",
    "for elemet in myList:\n",
    "    print(elemet)\n"
   ]
  },
  {
   "cell_type": "code",
   "execution_count": 1,
   "metadata": {},
   "outputs": [
    {
     "name": "stdout",
     "output_type": "stream",
     "text": [
      "10\n"
     ]
    }
   ],
   "source": [
    "# Tuple , mirip list bisa index tidak bisa dimodifikasi\n",
    "myTuple = (10,20)\n",
    "\n",
    "# myTuple[0] = 1\n",
    "print(myTuple[0])"
   ]
  },
  {
   "cell_type": "code",
   "execution_count": 2,
   "metadata": {},
   "outputs": [
    {
     "name": "stdout",
     "output_type": "stream",
     "text": [
      "{1, 3, 4, 5}\n",
      "true\n"
     ]
    }
   ],
   "source": [
    "# Set , tidak ada duplicate dan index\n",
    "mySet = {1,2,3,4,3,4,3}\n",
    "\n",
    "mySet.add(5)\n",
    "mySet.remove(2)\n",
    "print(mySet)\n",
    "\n",
    "# searching\n",
    "if 1 in mySet:\n",
    "    print(\"true\")\n"
   ]
  },
  {
   "cell_type": "code",
   "execution_count": 3,
   "metadata": {},
   "outputs": [
    {
     "name": "stdout",
     "output_type": "stream",
     "text": [
      "{'name': 'irfan', 'age': 21, 'gpa': 3.5}\n"
     ]
    }
   ],
   "source": [
    "# Dictionary\n",
    "myDict = {\n",
    "    'name' : \"irfan\",\n",
    "    \"age\"   : 20,\n",
    "}\n",
    "\n",
    "myDict[\"age\"] = 21\n",
    "myDict[\"gpa\"] = 3.5\n",
    "print(myDict)\n"
   ]
  },
  {
   "cell_type": "code",
   "execution_count": 4,
   "metadata": {},
   "outputs": [
    {
     "name": "stdout",
     "output_type": "stream",
     "text": [
      "[10, 20]\n"
     ]
    }
   ],
   "source": [
    "def myFunc(x):\n",
    "    # print(x+3)\n",
    "    return x+3\n",
    "\n",
    "# myFunc(5)\n",
    "# n = myFunc(3)\n",
    "# print(n)\n",
    "\n",
    "\n",
    "def myFunc2(x):\n",
    "    if x == 0:\n",
    "        return \"test\"\n",
    "    elif x == 1:\n",
    "        return True\n",
    "    else:\n",
    "        return(10,20)\n",
    "    \n",
    "var = myFunc2(3)\n",
    "# print(var)\n",
    "\n",
    "\n",
    "# detrucct\n",
    "myList2 = []\n",
    "for e in var:\n",
    "    myList2.append(e)\n",
    "print(myList2)"
   ]
  },
  {
   "cell_type": "code",
   "execution_count": 5,
   "metadata": {},
   "outputs": [
    {
     "name": "stdout",
     "output_type": "stream",
     "text": [
      "8\n",
      "5.0\n",
      "10\n",
      "-1\n"
     ]
    }
   ],
   "source": [
    "# Numpy\n",
    "import numpy as np\n",
    "\n",
    "print(np.power(2,3))\n",
    "print(np.sqrt(25))\n",
    "print(np.abs(-10))\n",
    "\n",
    "n = -20\n",
    "print(np.sign(n))  #return sign adalah 1 tergantung bil. positif atau negatif"
   ]
  },
  {
   "cell_type": "code",
   "execution_count": 6,
   "metadata": {},
   "outputs": [
    {
     "name": "stdout",
     "output_type": "stream",
     "text": [
      "[[ 1 -2]\n",
      " [ 3  4]]\n",
      "[[ 1. -2.]\n",
      " [ 3.  4.]\n",
      " [ 0.  0.]\n",
      " [ 0.  0.]]\n",
      "[[ 1. -2.  0.  0.]\n",
      " [ 3.  4.  0.  0.]]\n"
     ]
    }
   ],
   "source": [
    "# Numpy Arr\n",
    "\n",
    "arr = np.array([1,2])\n",
    "matrix = np.array([[1,-2],[3,4]])\n",
    "\n",
    "# print(arr)\n",
    "print(matrix)\n",
    "\n",
    "# print(np.dot(matrix,arr)) # dot product\n",
    "\n",
    "# print(np.shape(matrix))\n",
    "\n",
    "matrixZeros = np.zeros(np.shape(matrix))\n",
    "# print(matrixZeros)\n",
    "matrixOnes = np.ones(np.shape(matrix))\n",
    "# print(matrixOnes)\n",
    "\n",
    "# print(np.diag(matrix))\n",
    "# print(np.ndim(matrix))\n",
    "# print(np.abs(matrix))\n",
    "\n",
    "# Vstack\n",
    "print(np.vstack((matrix,matrixZeros)))\n",
    "print(np.hstack((matrix,matrixZeros)))"
   ]
  },
  {
   "cell_type": "code",
   "execution_count": 7,
   "metadata": {},
   "outputs": [
    {
     "name": "stdout",
     "output_type": "stream",
     "text": [
      "[[1 2]\n",
      " [3 4]\n",
      " [5 6]]\n",
      "[[1 2 3]\n",
      " [4 5 6]]\n",
      "[1. 2. 3. 4. 5.]\n",
      "[0 1 2 3 4]\n"
     ]
    }
   ],
   "source": [
    "mat2 = np.array([[1,2],[3,4],[5,6]])\n",
    "print(mat2)\n",
    "print(mat2.reshape(2,3))\n",
    "\n",
    "\n",
    "# Linspace\n",
    "arr3 = np.linspace(1.0,5.0,5)\n",
    "print(arr3)\n",
    "\n",
    "# arrage\n",
    "arr4 = np.arange(0,5)\n",
    "print(arr4)"
   ]
  }
 ],
 "metadata": {
  "kernelspec": {
   "display_name": "Python 3",
   "language": "python",
   "name": "python3"
  },
  "language_info": {
   "codemirror_mode": {
    "name": "ipython",
    "version": 3
   },
   "file_extension": ".py",
   "mimetype": "text/x-python",
   "name": "python",
   "nbconvert_exporter": "python",
   "pygments_lexer": "ipython3",
   "version": "3.12.2"
  }
 },
 "nbformat": 4,
 "nbformat_minor": 2
}
