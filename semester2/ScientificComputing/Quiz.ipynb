{
 "cells": [
  {
   "cell_type": "code",
   "execution_count": 5,
   "metadata": {},
   "outputs": [],
   "source": [
    "import numpy as np\n",
    "import matplotlib.pyplot as plt # Buat Least Square Regression"
   ]
  },
  {
   "cell_type": "markdown",
   "metadata": {},
   "source": [
    "# **Gauss-Seidel Linear Equation**"
   ]
  },
  {
   "cell_type": "markdown",
   "metadata": {},
   "source": [
    "#### NOTES\n",
    "Punya 2 main function :\n",
    "1. is Diag_Dominan ( 1 param)\n",
    "2. Gauss Seidel (2 param input, dan 2 param diketahui)\n",
    "\n",
    "Print :\n",
    "1. Print true/false Diag_dom \n",
    "2. Print true/false convergent dari func gauss_seidel\n",
    "\n"
   ]
  },
  {
   "cell_type": "code",
   "execution_count": 2,
   "metadata": {},
   "outputs": [],
   "source": [
    "\n",
    "# Diag Dominant, Covergent\n",
    "xs =[\n",
    "    [6,3,2],\n",
    "    [2,7,3],\n",
    "    [7,5,15]\n",
    "]\n",
    "\n",
    "ys = [\n",
    "    15,\n",
    "    6,\n",
    "    12\n",
    "]"
   ]
  },
  {
   "cell_type": "code",
   "execution_count": 3,
   "metadata": {},
   "outputs": [
    {
     "data": {
      "text/plain": [
       "True"
      ]
     },
     "execution_count": 3,
     "metadata": {},
     "output_type": "execute_result"
    }
   ],
   "source": [
    "def diagonally_dominant(x):\n",
    "    x = np.array(x) # Buat jadi numpy array\n",
    "    diag = np.array(np.diag(np.abs(x))) #Ambil diagonal dari matrix dan diabsolutin\n",
    "    sum = np.sum(np.array(np.abs(x)),axis = 1) # Axis = 1 biar ada jumlahnya per row\n",
    "    sum_without_diag = sum - diag # Cari Jumlah yg tidak termasuk diagonal\n",
    "\n",
    "    if(np.all(diag > sum_without_diag)): # Validasi Diagonal Dominan\n",
    "        return True\n",
    "    else:\n",
    "        return False\n",
    "    \n",
    "diagonally_dominant(xs)"
   ]
  },
  {
   "cell_type": "code",
   "execution_count": 4,
   "metadata": {},
   "outputs": [
    {
     "name": "stdout",
     "output_type": "stream",
     "text": [
      "Diagonally Dominant\n",
      "iteration:  1 [ 2.5         0.14285714 -0.41428571]\n",
      "iteration:  2 [ 2.56666667  0.30136054 -0.49823129]\n",
      "iteration:  3 [ 2.51539683  0.35198575 -0.49118043]\n",
      "iteration:  4 [ 2.48773394  0.35686763 -0.47989838]\n",
      "iteration:  5 [ 2.48153231  0.35380436 -0.4759832 ]\n",
      "Convergent\n"
     ]
    }
   ],
   "source": [
    "def gauss_seidel(x,y,error = 0.015, max = 20):\n",
    "    x = np.array(x)\n",
    "    y = np.array(y)\n",
    "\n",
    "    n_old = np.zeros(len(x[0])) #inisialisasi semua result dengan 0\n",
    "\n",
    "    diag = np.diag(x) # Ambil diagonal persamaan\n",
    "    x = -x # Buat pindahin ruas\n",
    "    np.fill_diagonal (x,0) # Diagonal di nolin\n",
    "\n",
    "    for t in range(max):\n",
    "        n_new = np.array(n_old) #buat array baru untuk menampung hasil\n",
    "        \n",
    "        for i in range (len(x)):\n",
    "            n_new[i] = (y[i] + np.dot(x[i], n_new)) / diag[i] #Update nilai Result\n",
    "\n",
    "        print(\"iteration: \", t+1, n_new)\n",
    "\n",
    "        eucledian = np.sqrt(np.dot(n_new - n_old, n_new - n_old))\n",
    "        if (eucledian <error):\n",
    "            return True\n",
    "        \n",
    "        n_old = n_new\n",
    "\n",
    "    return False\n",
    "\n",
    "if(diagonally_dominant(xs)):\n",
    "    print(\"Diagonally Dominant\")\n",
    "else:\n",
    "    print(\"Not Diagonally Dominant\")\n",
    "\n",
    "    \n",
    "if(gauss_seidel(xs,ys)):\n",
    "    print(\"Convergent\")\n",
    "else:\n",
    "    print(\"Not Convergent\")\n",
    "\n"
   ]
  },
  {
   "cell_type": "markdown",
   "metadata": {},
   "source": [
    "# **Least Square Regression**"
   ]
  },
  {
   "cell_type": "markdown",
   "metadata": {},
   "source": [
    "![image.png](attachment:image.png)\n",
    "\n",
    "Rumus Least Square Regression\n",
    "- alpha[0] = m\n",
    "- alpha[1] = b"
   ]
  },
  {
   "cell_type": "code",
   "execution_count": 9,
   "metadata": {},
   "outputs": [
    {
     "name": "stdout",
     "output_type": "stream",
     "text": [
      "alpha =  [[0.46428571]\n",
      " [4.28571429]]\n"
     ]
    },
    {
     "data": {
      "image/png": "[encoded data removed]",
      "text/plain": [
       "<Figure size 640x480 with 1 Axes>"
      ]
     },
     "metadata": {},
     "output_type": "display_data"
    }
   ],
   "source": [
    "x = [1, 2, 3, 4, 5, 6, 7, 8]\n",
    "y = [7, 5, 4, 3, 7, 8, 11, 6]\n",
    "\n",
    "x = np.array(x)\n",
    "y = np.array(y)\n",
    "\n",
    "A = np.vstack((x,np.ones(len(x)))).T\n",
    "y = y[:,np.newaxis]\n",
    "# print(\"y = \", y)\n",
    "\n",
    "\n",
    "# alpha = Schet\n",
    "alpha = np.dot(np.dot(np.linalg.inv(np.dot(A.T,A)),A.T),y)\n",
    "print(\"alpha = \", alpha)\n",
    "\n",
    "plt.plot(x,y,'ro',label='Data 1')\n",
    "plt.plot(x,alpha[0]*x+alpha[1],label='Best Fit Line')\n",
    "plt.legend()\n",
    "plt.show()"
   ]
  },
  {
   "cell_type": "markdown",
   "metadata": {},
   "source": [
    "# **Riemann Integral**"
   ]
  },
  {
   "cell_type": "code",
   "execution_count": 20,
   "metadata": {},
   "outputs": [
    {
     "name": "stdout",
     "output_type": "stream",
     "text": [
      "x =  [2.   2.75 3.5  4.25 5.  ]\n",
      "Height y =  [-1.      2.5625  7.25   13.0625 20.    ]\n"
     ]
    }
   ],
   "source": [
    "# Varibel yg dibutuhkan \n",
    "\n",
    "# fx = x^2 - 5\n",
    "# Integral fx, 2 < x < 5\n",
    "\n",
    "a = 2 # Batas Minimum integral\n",
    "b = 5 # Batas Maks Integral\n",
    "n = 5 # Jumlah titik\n",
    "\n",
    "w = (b-a) / (n-1) #Lebar Kotak\n",
    "x = np.linspace(a,b,n) #Titik Koordinat untuk tiap lebar 1 kotak, merupakan Numpy array bukan std.array\n",
    "# y = f(x) , Fungsi yg akan digunakan\n",
    "\n",
    "print(\"x = \",x)\n",
    "\n",
    "# Our Function\n",
    "def f(x):\n",
    "    return x**2-5\n",
    "\n",
    "print(\"Height y = \",f(x))"
   ]
  },
  {
   "cell_type": "code",
   "execution_count": 21,
   "metadata": {},
   "outputs": [
    {
     "name": "stdout",
     "output_type": "stream",
     "text": [
      "16.40625\n",
      "32.15625\n",
      "23.859375\n"
     ]
    }
   ],
   "source": [
    "# LEFT RIEMANN \n",
    "LeftR = w * sum(f(x)[:n-1]) # [:n-1] slicing\n",
    "\n",
    "\n",
    "# RIGHT RIEMANN \n",
    "RightR = w * sum(f(x)[1:]) \n",
    "\n",
    "\n",
    "# MID RIEMANN  # Cari titik midpoint untuk setiap titik\n",
    "xmid = (x[1:] + x[:n-1]) /2 # TItik Kiri - kanan bagi 2\n",
    "midR = w*sum(f(xmid))\n",
    "\n",
    "\n",
    "print(LeftR)\n",
    "print(RightR)\n",
    "print(midR)"
   ]
  },
  {
   "cell_type": "markdown",
   "metadata": {},
   "source": [
    "# **Newton-Rhapson Root Finding**"
   ]
  },
  {
   "cell_type": "code",
   "execution_count": 16,
   "metadata": {},
   "outputs": [
    {
     "name": "stdout",
     "output_type": "stream",
     "text": [
      "Iteration = 1 ; Root = 3.5 ; f(x1) = 2.25\n",
      "Iteration = 2 ; Root = 3.05 ; f(x1) = 0.2024999999999988\n",
      "Iteration = 3 ; Root = 3.0006097560975613 ; f(x1) = 0.0024393961927433594\n",
      "Converged to root: 3.0006097560975613\n",
      "The root is: 3.0006097560975613\n"
     ]
    }
   ],
   "source": [
    "import numpy as np\n",
    "\n",
    "def f(x):\n",
    "    return x**2 - 2*x - 3  # Function whose root we want to find\n",
    "\n",
    "def g(x):\n",
    "    return 2*x - 2  # Derivative of the function\n",
    "\n",
    "def newton_raphson(x0, tolerance, max_iterations=1000):\n",
    "    x1 = x0\n",
    "    for i in range(max_iterations):\n",
    "        x1 = x0 - f(x0) / g(x0)\n",
    "        print(f'Iteration = {i+1} ; Root = {x1} ; f(x1) = {f(x1)}')\n",
    "\n",
    "        if np.abs(f(x1)) < tolerance:\n",
    "            print(\"Converged to root:\", x1)\n",
    "            return x1\n",
    "\n",
    "        x0 = x1\n",
    "    \n",
    "    # Validation: If we reach here, it means we did not converge within the maximum number of iterations\n",
    "    print(\"Did not converge within the maximum number of iterations\")\n",
    "    return None\n",
    "\n",
    "# Example usage\n",
    "root = newton_raphson(2, 0.015)\n",
    "if root is not None:\n",
    "    print(f\"The root is: {root}\")\n",
    "else:\n",
    "    print(\"Failed to find a root.\")\n"
   ]
  }
 ],
 "metadata": {
  "kernelspec": {
   "display_name": "Python 3",
   "language": "python",
   "name": "python3"
  },
  "language_info": {
   "codemirror_mode": {
    "name": "ipython",
    "version": 3
   },
   "file_extension": ".py",
   "mimetype": "text/x-python",
   "name": "python",
   "nbconvert_exporter": "python",
   "pygments_lexer": "ipython3",
   "version": "3.12.2"
  }
 },
 "nbformat": 4,
 "nbformat_minor": 2
}
